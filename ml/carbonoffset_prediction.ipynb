{
 "cells": [
  {
   "cell_type": "markdown",
   "id": "5522f32a",
   "metadata": {},
   "source": [
    "# How it Works"
   ]
  },
  {
   "cell_type": "markdown",
   "id": "72e971a4",
   "metadata": {},
   "source": [
    "We will be receiving a string input that specifies the carbon sequestration method to be utilized.\n",
    "\n",
    "1. Planting trees\n",
    "2. Acres of U.S. forests in one year \n",
    "3. Acres of U.S. forests preserved from conversion to cropland in one year\n",
    "4. Solar Panel\n",
    "\n",
    "For 1,2,3, we're using linear regression (algorithm) to calculate carbon offsets,\n",
    "and for 4, we're using machine learning and neural network to predict carbon offsets using the Google Sunroof dataset. Refer to /data/metadata.csv for details of the dataset. "
   ]
  },
  {
   "cell_type": "code",
   "execution_count": 2,
   "id": "dec4f350",
   "metadata": {},
   "outputs": [],
   "source": [
    "import numpy as np\n",
    "import matplotlib.pyplot as plt\n",
    "import pandas as pd"
   ]
  },
  {
   "cell_type": "markdown",
   "id": "aeafdd63",
   "metadata": {},
   "source": [
    "## 1. Plant trees"
   ]
  },
  {
   "cell_type": "code",
   "execution_count": 6,
   "id": "84d50673",
   "metadata": {},
   "outputs": [
    {
     "name": "stdout",
     "output_type": "stream",
     "text": [
      "0.017361800219538967\n",
      "0.029298037870472006\n",
      "0.00976601262349067\n",
      "0.03125124039517014\n"
     ]
    }
   ],
   "source": [
    "#Source: https://www.unm.edu/~jbrink/365/Documents/Calculating_tree_carbon.pdf\n",
    "\n",
    "def tree_co2_sequestration(age, height, diameter):\n",
    "    # Determine the total (green) weight of the tree\n",
    "    if diameter < 11:\n",
    "        W = 0.25 * diameter**2 * height\n",
    "    else:\n",
    "        W = 0.15 * diameter**2 * height\n",
    "\n",
    "    # Add the weight of the root system\n",
    "    total_green_weight = W * 1.2\n",
    "\n",
    "    # Determine the dry weight of the tree\n",
    "    dry_weight = total_green_weight * 0.725\n",
    "\n",
    "    # Determine the weight of carbon in the tree\n",
    "    carbon_weight = dry_weight * 0.5\n",
    "\n",
    "    # Determine the weight of carbon dioxide sequestered in the tree\n",
    "    CO2_weight = carbon_weight * 3.6663\n",
    "\n",
    "    # Determine the weight of CO2 sequestered in the tree per year\n",
    "    CO2_sequestered_per_year = CO2_weight / age\n",
    "    \n",
    "    # Convert the CO2 sequestered per year from pounds to metric tons\n",
    "    CO2_sequestered_per_year_metric_tons = CO2_sequestered_per_year / 2204.62\n",
    "    \n",
    "    carbon_offset = CO2_sequestered_per_year_metric_tons\n",
    "\n",
    "    return carbon_offset\n",
    "\n",
    "carbon_offset = \n",
    "\n",
    "# Examples\n",
    "print(tree_co2_sequestration(10, 15, 8))       # Calliandra calothyrsus\n",
    "print(tree_co2_sequestration(10, 45, 6))       # Grevillia robusta\n",
    "print(tree_co2_sequestration(2.5, 15, 3))      # Acacia angustissima\n",
    "print(tree_co2_sequestration(15, 30, 12))      # Albizzia lebbek\n"
   ]
  },
  {
   "cell_type": "markdown",
   "id": "ee5158ff",
   "metadata": {},
   "source": [
    "## 2. Acres of U.S. forests in one year"
   ]
  },
  {
   "cell_type": "code",
   "execution_count": 10,
   "id": "f1e51abf",
   "metadata": {},
   "outputs": [
    {
     "name": "stdout",
     "output_type": "stream",
     "text": [
      "Annual net change in carbon stocks in year 2020: 149000000.0 MT C\n",
      "Carbon stock density in year 2020: 206.18235062628295 metric tons of carbon stored per hectare\n",
      "Annual net change in carbon stock per area in year 2020: 0.5282545265031323 metric tons of carbon sequestered per hectare per year\n",
      "Carbon sequestered annually by one acre of average U.S. forest: 0.7838502919183418 metric ton CO2/acre/year\n"
     ]
    }
   ],
   "source": [
    "#Source: https://www.epa.gov/energy/greenhouse-gases-equivalencies-calculator-calculations-and-references#pineforests\n",
    "\n",
    "def annual_net_change(t, t_plus_1):\n",
    "    \"\"\"Calculate the annual net change in carbon stocks in metric tons\"\"\"\n",
    "    return (t_plus_1 - t) * 1e6\n",
    "\n",
    "def stock_density(stock, area):\n",
    "    \"\"\"Calculate the carbon stock density in metric tons/hectare\"\"\"\n",
    "    return stock * 1e6 / (area * 1e3)\n",
    "\n",
    "def net_change_per_area(net_change, area):\n",
    "    \"\"\"Calculate the annual net change in carbon stock per area in metric tons/hectare/year\"\"\"\n",
    "    return net_change / (area * 1e3)\n",
    "\n",
    "def sequestered_per_acre(net_change_per_acre):\n",
    "    \"\"\"Calculate the carbon sequestered in one year by one acre in metric tons CO2/acre/year\"\"\"\n",
    "    return net_change_per_acre * (44 / 12)\n",
    "\n",
    "# Given data in MMT and thousand hectares\n",
    "stock_2019 = 58007  # MMT C\n",
    "stock_2020 = 58156  # MMT C\n",
    "area = 282061  # in thousand hectares\n",
    "\n",
    "# Step 1: Calculate annual net change in metric tons\n",
    "net_change = annual_net_change(stock_2019, stock_2020)\n",
    "\n",
    "# Step 2: Calculate carbon stock density and annual net change per area in metric tons/hectare and metric tons/hectare/year respectively\n",
    "density_2020 = stock_density(stock_2020, area)\n",
    "net_change_per_area_2020 = net_change_per_area(net_change, area)\n",
    "\n",
    "# Conversion Factor for Carbon Sequestered in One Year by 1 Acre of Average U.S. Forest\n",
    "net_change_per_acre = net_change_per_area_2020 / 2.47105  # converting hectare to acre\n",
    "sequestered_per_acre_2020 = sequestered_per_acre(net_change_per_acre)  # in metric ton CO2/acre/year\n",
    "\n",
    "carbon_offset = sequestered_per_acre_2020\n",
    "\n",
    "# Display results\n",
    "print(f\"Annual net change in carbon stocks in year 2020: {net_change} MT C\")\n",
    "print(f\"Carbon stock density in year 2020: {density_2020} metric tons of carbon stored per hectare\")\n",
    "print(f\"Annual net change in carbon stock per area in year 2020: {net_change_per_area_2020} metric tons of carbon sequestered per hectare per year\")\n",
    "print(f\"Carbon sequestered annually by one acre of average U.S. forest: {sequestered_per_acre_2020} metric ton CO2/acre/year\")\n"
   ]
  },
  {
   "cell_type": "markdown",
   "id": "ed8bc109",
   "metadata": {},
   "source": [
    "## 3. Acres of U.S. forests preserved from conversion to cropland in one year"
   ]
  },
  {
   "cell_type": "code",
   "execution_count": 11,
   "id": "10e03499",
   "metadata": {},
   "outputs": [
    {
     "name": "stdout",
     "output_type": "stream",
     "text": [
      "Annual change in carbon stocks in biomass: -87.59 mt C/hectare/year\n",
      "Annual change in organic carbon stocks in soils: -3.74 mt C/hectare/year\n",
      "Annual change in emissions from drained organic soils: 10.26 mt C/hectare/year\n",
      "Total carbon loss: -101.59 mt C/hectare/year\n",
      "Total CO2 loss: -372.51 mt CO2/hectare/year\n",
      "Total CO2 loss per acre: -150.75 mt CO2/acre/year\n",
      "Total carbon offset per acre 150.74947896643127\n"
     ]
    }
   ],
   "source": [
    "#Source: https://www.epa.gov/energy/greenhouse-gases-equivalencies-calculator-calculations-and-references#pineforests\n",
    "\n",
    "# Constants\n",
    "biomass_growth_cropland = 2.25  # mt C/hectare\n",
    "initial_biomass_stock_forest = -89.84  # mt C/hectare\n",
    "annual_biomass_loss = 0.0  # mt C/hectare/year (assumed to be zero)\n",
    "\n",
    "last_year_soil_carbon_stock = 41.13  # mt/hectare\n",
    "begin_inventory_soil_carbon_stock = 116.0  # mt/hectare\n",
    "transition_period = 20.0  # years\n",
    "\n",
    "ef_cropland = 13.17  # mt C/hectare/year\n",
    "ef_forestland = 2.60 + 0.31  # mt C/hectare/year\n",
    "\n",
    "# Calculations\n",
    "# Annual change in carbon stocks in biomass on land converted to cropland\n",
    "delta_CB = biomass_growth_cropland + initial_biomass_stock_forest - annual_biomass_loss\n",
    "\n",
    "# Annual change in organic carbon stocks in mineral and organic soils\n",
    "delta_CSoil = (last_year_soil_carbon_stock - begin_inventory_soil_carbon_stock) / transition_period\n",
    "\n",
    "# Annual change in emissions from drained organic soils\n",
    "delta_LOrganic = ef_cropland - ef_forestland\n",
    "\n",
    "# Total change in carbon density from converting forestland to cropland\n",
    "total_carbon_loss_hectare = delta_CB + delta_CSoil - delta_LOrganic  # mt C/hectare/year\n",
    "\n",
    "# Convert to CO2\n",
    "total_co2_loss_hectare = total_carbon_loss_hectare * (44 / 12)  # mt CO2/hectare/year\n",
    "\n",
    "# Convert hectare to acre (1 hectare = 2.47105 acres)\n",
    "total_co2_loss_acre = total_co2_loss_hectare / 2.47105  # mt CO2/acre/year\n",
    "\n",
    "carbon_offset = -total_co2_loss_acre\n",
    "\n",
    "# Display results\n",
    "print(f\"Annual change in carbon stocks in biomass: {delta_CB:.2f} mt C/hectare/year\")\n",
    "print(f\"Annual change in organic carbon stocks in soils: {delta_CSoil:.2f} mt C/hectare/year\")\n",
    "print(f\"Annual change in emissions from drained organic soils: {delta_LOrganic:.2f} mt C/hectare/year\")\n",
    "print(f\"Total carbon loss: {total_carbon_loss_hectare:.2f} mt C/hectare/year\")\n",
    "print(f\"Total CO2 loss: {total_co2_loss_hectare:.2f} mt CO2/hectare/year\")\n",
    "print(f\"Total CO2 loss per acre: {total_co2_loss_acre:.2f} mt CO2/acre/year\")\n",
    "print(\"Total carbon offset per acre\", carbon_offset)"
   ]
  },
  {
   "cell_type": "markdown",
   "id": "27d9aca6",
   "metadata": {},
   "source": [
    "## 4. Solar Panel"
   ]
  },
  {
   "cell_type": "markdown",
   "id": "d9f13084",
   "metadata": {},
   "source": [
    "### 1. Retreive Sunroof dataset"
   ]
  },
  {
   "cell_type": "code",
   "execution_count": null,
   "id": "2fb5c0b6",
   "metadata": {},
   "outputs": [],
   "source": []
  },
  {
   "cell_type": "markdown",
   "id": "8ed7406e",
   "metadata": {},
   "source": [
    "### 2. Dataset analysis"
   ]
  },
  {
   "cell_type": "markdown",
   "id": "8285f0d5",
   "metadata": {},
   "source": [
    "### 3. Data Pre-processing Pipeline"
   ]
  },
  {
   "cell_type": "markdown",
   "id": "3c479ad3",
   "metadata": {},
   "source": [
    "### 4. Build Linear Regression model"
   ]
  },
  {
   "cell_type": "markdown",
   "id": "21b22d7e",
   "metadata": {},
   "source": [
    "#### 4-1. Linear Regression"
   ]
  },
  {
   "cell_type": "markdown",
   "id": "95f4578b",
   "metadata": {},
   "source": [
    "#### 4-2. Ridge Regression"
   ]
  },
  {
   "cell_type": "markdown",
   "id": "be68a771",
   "metadata": {},
   "source": [
    "#### 4-3. Lasso Regression"
   ]
  },
  {
   "cell_type": "markdown",
   "id": "056b35a3",
   "metadata": {},
   "source": [
    "### 5. Build Random Forest model"
   ]
  },
  {
   "cell_type": "markdown",
   "id": "5e89ae7b",
   "metadata": {},
   "source": [
    "### 6. Build KNN Model"
   ]
  },
  {
   "cell_type": "markdown",
   "id": "94f1bbe2",
   "metadata": {},
   "source": [
    "### Support Vector Machine"
   ]
  },
  {
   "cell_type": "markdown",
   "id": "a83dc0a2",
   "metadata": {},
   "source": [
    "### 7. Build Neural Network Model"
   ]
  },
  {
   "cell_type": "code",
   "execution_count": null,
   "id": "93f872e9",
   "metadata": {},
   "outputs": [],
   "source": []
  }
 ],
 "metadata": {
  "kernelspec": {
   "display_name": "Python 3 (ipykernel)",
   "language": "python",
   "name": "python3"
  },
  "language_info": {
   "codemirror_mode": {
    "name": "ipython",
    "version": 3
   },
   "file_extension": ".py",
   "mimetype": "text/x-python",
   "name": "python",
   "nbconvert_exporter": "python",
   "pygments_lexer": "ipython3",
   "version": "3.10.9"
  }
 },
 "nbformat": 4,
 "nbformat_minor": 5
}
