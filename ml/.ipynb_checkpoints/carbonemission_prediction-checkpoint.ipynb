{
 "cells": [
  {
   "cell_type": "code",
   "execution_count": 3,
   "id": "dc6c66f8",
   "metadata": {},
   "outputs": [
    {
     "data": {
      "text/plain": [
       "'\\nGWP Values (100-year period):\\n\\nCO₂: 1 (by definition)\\nMethane (CH₄): 28-36\\nNitrous Oxide (N₂O): 298\\nPerfluorocarbons (PFCs): 7,390 to 12,200 (varies significantly depending on the specific compound)\\nHydrofluorocarbons (HFCs): 12 to 14,800 (varies significantly depending on the specific compound)\\nSulfur Hexafluoride (SF₆): 23,500\\n\\nmetric: metric tons\\n\\n'"
      ]
     },
     "execution_count": 3,
     "metadata": {},
     "output_type": "execute_result"
    }
   ],
   "source": [
    "'''\n",
    "GWP Values (100-year period):\n",
    "\n",
    "CO₂: 1 (by definition)\n",
    "Methane (CH₄): 28-36\n",
    "Nitrous Oxide (N₂O): 298\n",
    "Perfluorocarbons (PFCs): 7,390 to 12,200 (varies significantly depending on the specific compound)\n",
    "Hydrofluorocarbons (HFCs): 12 to 14,800 (varies significantly depending on the specific compound)\n",
    "Sulfur Hexafluoride (SF₆): 23,500\n",
    "\n",
    "metric: metric tons\n",
    "\n",
    "'''"
   ]
  },
  {
   "cell_type": "code",
   "execution_count": 4,
   "id": "3915c58f",
   "metadata": {},
   "outputs": [],
   "source": [
    "### Not using Hydrofluorocarbons (HFCs)"
   ]
  },
  {
   "cell_type": "code",
   "execution_count": 5,
   "id": "7a3c71c3",
   "metadata": {},
   "outputs": [],
   "source": [
    "def carbon_emi(CO2, Methane, Nitrous, Perf, Sulfur):\n",
    "    total = CO2 + Methane*32 + Nitrous*298 + Perf*9795 + Sulfur*23500\n",
    "    return total"
   ]
  }
 ],
 "metadata": {
  "kernelspec": {
   "display_name": "Python 3 (ipykernel)",
   "language": "python",
   "name": "python3"
  },
  "language_info": {
   "codemirror_mode": {
    "name": "ipython",
    "version": 3
   },
   "file_extension": ".py",
   "mimetype": "text/x-python",
   "name": "python",
   "nbconvert_exporter": "python",
   "pygments_lexer": "ipython3",
   "version": "3.10.9"
  }
 },
 "nbformat": 4,
 "nbformat_minor": 5
}
